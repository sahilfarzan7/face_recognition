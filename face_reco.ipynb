{
 "cells": [
  {
   "cell_type": "code",
   "execution_count": 1,
   "metadata": {},
   "outputs": [],
   "source": [
    "import cv2"
   ]
  },
  {
   "cell_type": "code",
   "execution_count": 2,
   "metadata": {},
   "outputs": [],
   "source": [
    "def name_map(x):\n",
    "    if x=='sachin':\n",
    "        return 0\n",
    "    if x=='obama':\n",
    "        return 1\n",
    "    if x=='messi':\n",
    "        return 2"
   ]
  },
  {
   "cell_type": "code",
   "execution_count": 3,
   "metadata": {},
   "outputs": [],
   "source": [
    "def get_name(x):\n",
    "    if x==0:\n",
    "        return \"sachin\"\n",
    "    if x==1:\n",
    "        return \"obama\"\n",
    "    if x==2:\n",
    "        return \"messi\""
   ]
  },
  {
   "cell_type": "code",
   "execution_count": 4,
   "metadata": {},
   "outputs": [],
   "source": [
    "def detect_face(img):\n",
    "    gray=cv2.cvtColor(img,cv2.COLOR_BGR2GRAY)\n",
    "    face_cascade=cv2.CascadeClassifier(r'E:\\DL projects\\face_recoginition\\haarcascade_frontalface_default.xml')\n",
    "    face=face_cascade.detectMultiScale(gray,minNeighbors=4)\n",
    "    if len(face)==0:\n",
    "        return None,None\n",
    "    x,y,w,h=face[0]\n",
    "    return gray[x:x+w,y:y+h],face[0]"
   ]
  },
  {
   "cell_type": "code",
   "execution_count": 5,
   "metadata": {},
   "outputs": [],
   "source": [
    "import os"
   ]
  },
  {
   "cell_type": "code",
   "execution_count": 6,
   "metadata": {},
   "outputs": [],
   "source": [
    "def prepare_training(data_folder):\n",
    "    dirs=os.listdir(data_folder)\n",
    "    #print(dirs)\n",
    "    faces=[]\n",
    "    labels=[]\n",
    "    for dir_name in dirs: #messi\n",
    "        sub_dir=data_folder+'/'+dir_name\n",
    "        print(sub_dir)\n",
    "        images=os.listdir(sub_dir)\n",
    "        print(images)\n",
    "        for img in images:\n",
    "            imgpath=sub_dir+'/'+img\n",
    "            print(imgpath)\n",
    "            image=cv2.imread(imgpath)\n",
    "            cv2.imshow('training images',image)\n",
    "            cv2.waitKey(500)\n",
    "            \n",
    "\n",
    "            #detect face\n",
    "            face,rect=detect_face(image)\n",
    "            if face is not None:\n",
    "                faces.append(face)\n",
    "                labels.append(name_map(dir_name))\n",
    "               # print(labels)\n",
    "    cv2.waitKey(1)\n",
    "    cv2.destroyAllWindows()\n",
    "    return faces,labels\n",
    "    "
   ]
  },
  {
   "cell_type": "code",
   "execution_count": 7,
   "metadata": {},
   "outputs": [
    {
     "name": "stdout",
     "output_type": "stream",
     "text": [
      "E:\\DL projects\\face_recoginition\\DB/messi\n",
      "['01.jpg', '02.jpg', '03.jpg', '04.jpg', '05.jpg', '06.jpg', '07.jpg', '08.jpg', '09.jpg', '10.jpg']\n",
      "E:\\DL projects\\face_recoginition\\DB/messi/01.jpg\n"
     ]
    },
    {
     "name": "stdout",
     "output_type": "stream",
     "text": [
      "E:\\DL projects\\face_recoginition\\DB/messi/02.jpg\n",
      "E:\\DL projects\\face_recoginition\\DB/messi/03.jpg\n",
      "E:\\DL projects\\face_recoginition\\DB/messi/04.jpg\n",
      "E:\\DL projects\\face_recoginition\\DB/messi/05.jpg\n",
      "E:\\DL projects\\face_recoginition\\DB/messi/06.jpg\n",
      "E:\\DL projects\\face_recoginition\\DB/messi/07.jpg\n",
      "E:\\DL projects\\face_recoginition\\DB/messi/08.jpg\n",
      "E:\\DL projects\\face_recoginition\\DB/messi/09.jpg\n",
      "E:\\DL projects\\face_recoginition\\DB/messi/10.jpg\n",
      "E:\\DL projects\\face_recoginition\\DB/obama\n",
      "['01.jpg', '02.jpg', '03.jpg', '04.jpg', '05.jpg', '06.jpg', '07.jpg', '08.jpg', '09.jpg', '10.jpg']\n",
      "E:\\DL projects\\face_recoginition\\DB/obama/01.jpg\n",
      "E:\\DL projects\\face_recoginition\\DB/obama/02.jpg\n",
      "E:\\DL projects\\face_recoginition\\DB/obama/03.jpg\n",
      "E:\\DL projects\\face_recoginition\\DB/obama/04.jpg\n",
      "E:\\DL projects\\face_recoginition\\DB/obama/05.jpg\n",
      "E:\\DL projects\\face_recoginition\\DB/obama/06.jpg\n",
      "E:\\DL projects\\face_recoginition\\DB/obama/07.jpg\n",
      "E:\\DL projects\\face_recoginition\\DB/obama/08.jpg\n",
      "E:\\DL projects\\face_recoginition\\DB/obama/09.jpg\n",
      "E:\\DL projects\\face_recoginition\\DB/obama/10.jpg\n",
      "E:\\DL projects\\face_recoginition\\DB/sachin\n",
      "['01.jpg', '02.jpg', '03.jpg', '04.jpg', '05.jpg', '06.jpg', '07.jpg', '08.jpg', '09.jpg', '10.jpg']\n",
      "E:\\DL projects\\face_recoginition\\DB/sachin/01.jpg\n",
      "E:\\DL projects\\face_recoginition\\DB/sachin/02.jpg\n",
      "E:\\DL projects\\face_recoginition\\DB/sachin/03.jpg\n",
      "E:\\DL projects\\face_recoginition\\DB/sachin/04.jpg\n",
      "E:\\DL projects\\face_recoginition\\DB/sachin/05.jpg\n",
      "E:\\DL projects\\face_recoginition\\DB/sachin/06.jpg\n",
      "E:\\DL projects\\face_recoginition\\DB/sachin/07.jpg\n",
      "E:\\DL projects\\face_recoginition\\DB/sachin/08.jpg\n",
      "E:\\DL projects\\face_recoginition\\DB/sachin/09.jpg\n",
      "E:\\DL projects\\face_recoginition\\DB/sachin/10.jpg\n",
      "[2, 2, 2, 2, 2, 2, 2, 2, 2, 2, 1, 1, 1, 1, 1, 1, 1, 1, 1, 1, 0, 0, 0, 0, 0, 0, 0, 0, 0]\n"
     ]
    }
   ],
   "source": [
    "faces,labels=prepare_training(r'E:\\DL projects\\face_recoginition\\DB')\n",
    "print(labels)"
   ]
  },
  {
   "cell_type": "code",
   "execution_count": 8,
   "metadata": {},
   "outputs": [
    {
     "data": {
      "text/plain": [
       "29"
      ]
     },
     "execution_count": 8,
     "metadata": {},
     "output_type": "execute_result"
    }
   ],
   "source": [
    "len(labels)"
   ]
  },
  {
   "cell_type": "code",
   "execution_count": 9,
   "metadata": {},
   "outputs": [
    {
     "data": {
      "text/plain": [
       "< cv2.face.LBPHFaceRecognizer 0000012984888490>"
      ]
     },
     "execution_count": 9,
     "metadata": {},
     "output_type": "execute_result"
    }
   ],
   "source": [
    "recognizer=cv2.face.LBPHFaceRecognizer_create()\n",
    "recognizer"
   ]
  },
  {
   "cell_type": "code",
   "execution_count": 10,
   "metadata": {},
   "outputs": [],
   "source": [
    "import numpy as np \n"
   ]
  },
  {
   "cell_type": "code",
   "execution_count": 11,
   "metadata": {},
   "outputs": [],
   "source": [
    "recognizer.train(faces,np.array(labels))"
   ]
  },
  {
   "cell_type": "code",
   "execution_count": 12,
   "metadata": {},
   "outputs": [],
   "source": [
    "def draw_rectangle(img,rect):\n",
    "    (x,y,w,h)=rect\n",
    "    cv2.rectangle(img,(x,y),(x+w,y+h),(0,0,0),2)"
   ]
  },
  {
   "cell_type": "code",
   "execution_count": 13,
   "metadata": {},
   "outputs": [
    {
     "name": "stderr",
     "output_type": "stream",
     "text": [
      "<>:2: SyntaxWarning: 'int' object is not callable; perhaps you missed a comma?\n",
      "<>:2: SyntaxWarning: 'int' object is not callable; perhaps you missed a comma?\n",
      "C:\\Users\\Acer\\AppData\\Local\\Temp\\ipykernel_25272\\521591248.py:2: SyntaxWarning: 'int' object is not callable; perhaps you missed a comma?\n",
      "  cv2.putText(img,text,(x,y),cv2.FONT_HERSHEY_COMPLEX,1(0,0,255),2)\n"
     ]
    }
   ],
   "source": [
    "def write_text(img,text,x,y):\n",
    "    cv2.putText(img,text,(x,y),cv2.FONT_HERSHEY_COMPLEX,1(0,0,255),2)"
   ]
  },
  {
   "cell_type": "code",
   "execution_count": 14,
   "metadata": {},
   "outputs": [],
   "source": [
    "def predict_new(test_img):\n",
    "    face,rect=detect_face()\n",
    "    label=recognizer.predict(face)\n",
    "    print(label)"
   ]
  },
  {
   "cell_type": "code",
   "execution_count": 15,
   "metadata": {},
   "outputs": [
    {
     "ename": "TypeError",
     "evalue": "detect_face() missing 1 required positional argument: 'img'",
     "output_type": "error",
     "traceback": [
      "\u001b[1;31m---------------------------------------------------------------------------\u001b[0m",
      "\u001b[1;31mTypeError\u001b[0m                                 Traceback (most recent call last)",
      "Cell \u001b[1;32mIn[15], line 2\u001b[0m\n\u001b[0;32m      1\u001b[0m test_img\u001b[38;5;241m=\u001b[39mcv2\u001b[38;5;241m.\u001b[39mimread(\u001b[38;5;124mr\u001b[39m\u001b[38;5;124m'\u001b[39m\u001b[38;5;124mE:\u001b[39m\u001b[38;5;124m\\\u001b[39m\u001b[38;5;124mDL projects\u001b[39m\u001b[38;5;124m\\\u001b[39m\u001b[38;5;124mface_recoginition\u001b[39m\u001b[38;5;124m\\\u001b[39m\u001b[38;5;124mobama.jpg\u001b[39m\u001b[38;5;124m'\u001b[39m)\n\u001b[1;32m----> 2\u001b[0m \u001b[43mpredict_new\u001b[49m\u001b[43m(\u001b[49m\u001b[43mtest_img\u001b[49m\u001b[43m)\u001b[49m\n",
      "Cell \u001b[1;32mIn[14], line 2\u001b[0m, in \u001b[0;36mpredict_new\u001b[1;34m(test_img)\u001b[0m\n\u001b[0;32m      1\u001b[0m \u001b[38;5;28;01mdef\u001b[39;00m \u001b[38;5;21mpredict_new\u001b[39m(test_img):\n\u001b[1;32m----> 2\u001b[0m     face,rect\u001b[38;5;241m=\u001b[39m\u001b[43mdetect_face\u001b[49m\u001b[43m(\u001b[49m\u001b[43m)\u001b[49m\n\u001b[0;32m      3\u001b[0m     label\u001b[38;5;241m=\u001b[39mrecognizer\u001b[38;5;241m.\u001b[39mpredict(face)\n\u001b[0;32m      4\u001b[0m     \u001b[38;5;28mprint\u001b[39m(label)\n",
      "\u001b[1;31mTypeError\u001b[0m: detect_face() missing 1 required positional argument: 'img'"
     ]
    }
   ],
   "source": [
    "test_img=cv2.imread(r'E:\\DL projects\\face_recoginition\\obama.jpg')\n",
    "predict_new(test_img)"
   ]
  }
 ],
 "metadata": {
  "kernelspec": {
   "display_name": "Python 3",
   "language": "python",
   "name": "python3"
  },
  "language_info": {
   "codemirror_mode": {
    "name": "ipython",
    "version": 3
   },
   "file_extension": ".py",
   "mimetype": "text/x-python",
   "name": "python",
   "nbconvert_exporter": "python",
   "pygments_lexer": "ipython3",
   "version": "3.12.1"
  }
 },
 "nbformat": 4,
 "nbformat_minor": 2
}
